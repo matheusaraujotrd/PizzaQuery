{
 "cells": [
  {
   "cell_type": "markdown",
   "id": "c26356ec",
   "metadata": {},
   "source": [
    "# Pizza Query - Relatório e Documentação"
   ]
  },
  {
   "cell_type": "code",
   "execution_count": 1,
   "id": "95dcddaa",
   "metadata": {},
   "outputs": [],
   "source": [
    "# Se você não tiver alguma das bibliotecas usadas neste notebook, basta instalá-las com esta célula.\n",
    "\n",
    "# !pip install pingouin\n",
    "# !pip install pandas\n",
    "# !pip install numpy\n",
    "# !pip install seaborn\n",
    "# !pip install plotly"
   ]
  },
  {
   "cell_type": "code",
   "execution_count": 2,
   "id": "90146733",
   "metadata": {},
   "outputs": [],
   "source": [
    "# Importando bibliotecas...\n",
    "\n",
    "import pandas as pd\n",
    "import numpy as np\n",
    "import seaborn as sns\n",
    "import plotly.express as px\n",
    "import plotly.graph_objects as go\n",
    "import pingouin as pgn"
   ]
  },
  {
   "cell_type": "markdown",
   "id": "58d05f1d",
   "metadata": {},
   "source": [
    "## Carregamento de Dados"
   ]
  },
  {
   "cell_type": "code",
   "execution_count": 3,
   "id": "0c9021f7",
   "metadata": {},
   "outputs": [
    {
     "data": {
      "text/html": [
       "<div>\n",
       "<style scoped>\n",
       "    .dataframe tbody tr th:only-of-type {\n",
       "        vertical-align: middle;\n",
       "    }\n",
       "\n",
       "    .dataframe tbody tr th {\n",
       "        vertical-align: top;\n",
       "    }\n",
       "\n",
       "    .dataframe thead th {\n",
       "        text-align: right;\n",
       "    }\n",
       "</style>\n",
       "<table border=\"1\" class=\"dataframe\">\n",
       "  <thead>\n",
       "    <tr style=\"text-align: right;\">\n",
       "      <th></th>\n",
       "      <th>idPedido</th>\n",
       "      <th>descTipoItem</th>\n",
       "      <th>descItem</th>\n",
       "    </tr>\n",
       "  </thead>\n",
       "  <tbody>\n",
       "    <tr>\n",
       "      <th>0</th>\n",
       "      <td>0</td>\n",
       "      <td>bebida</td>\n",
       "      <td>refrigerante</td>\n",
       "    </tr>\n",
       "    <tr>\n",
       "      <th>1</th>\n",
       "      <td>0</td>\n",
       "      <td>borda</td>\n",
       "      <td>borda tradicional</td>\n",
       "    </tr>\n",
       "    <tr>\n",
       "      <th>2</th>\n",
       "      <td>0</td>\n",
       "      <td>ingrediente 1</td>\n",
       "      <td>pepperoni</td>\n",
       "    </tr>\n",
       "    <tr>\n",
       "      <th>3</th>\n",
       "      <td>0</td>\n",
       "      <td>ingrediente 2</td>\n",
       "      <td>orégano</td>\n",
       "    </tr>\n",
       "    <tr>\n",
       "      <th>4</th>\n",
       "      <td>0</td>\n",
       "      <td>ingrediente 3</td>\n",
       "      <td>frango</td>\n",
       "    </tr>\n",
       "  </tbody>\n",
       "</table>\n",
       "</div>"
      ],
      "text/plain": [
       "   idPedido   descTipoItem           descItem\n",
       "0         0         bebida       refrigerante\n",
       "1         0          borda  borda tradicional\n",
       "2         0  ingrediente 1          pepperoni\n",
       "3         0  ingrediente 2            orégano\n",
       "4         0  ingrediente 3             frango"
      ]
     },
     "execution_count": 3,
     "metadata": {},
     "output_type": "execute_result"
    }
   ],
   "source": [
    "# Abrindo dataframes\n",
    "\n",
    "df_item_pedido = pd.read_csv(r\"C:\\Users\\mathe\\Desktop\\Power BI\\Data Glow Up\\17\\item_pedido.csv\")\n",
    "df_item_pedido.head()"
   ]
  },
  {
   "cell_type": "code",
   "execution_count": 4,
   "id": "fbc61def",
   "metadata": {},
   "outputs": [
    {
     "data": {
      "text/html": [
       "<div>\n",
       "<style scoped>\n",
       "    .dataframe tbody tr th:only-of-type {\n",
       "        vertical-align: middle;\n",
       "    }\n",
       "\n",
       "    .dataframe tbody tr th {\n",
       "        vertical-align: top;\n",
       "    }\n",
       "\n",
       "    .dataframe thead th {\n",
       "        text-align: right;\n",
       "    }\n",
       "</style>\n",
       "<table border=\"1\" class=\"dataframe\">\n",
       "  <thead>\n",
       "    <tr style=\"text-align: right;\">\n",
       "      <th></th>\n",
       "      <th>idPedido</th>\n",
       "      <th>dtPedido</th>\n",
       "      <th>flKetchup</th>\n",
       "      <th>descUF</th>\n",
       "      <th>txtRecado</th>\n",
       "    </tr>\n",
       "  </thead>\n",
       "  <tbody>\n",
       "    <tr>\n",
       "      <th>0</th>\n",
       "      <td>0</td>\n",
       "      <td>2023-05-11T10:59:33.000+0000</td>\n",
       "      <td>NaN</td>\n",
       "      <td>Goiás</td>\n",
       "      <td>NaN</td>\n",
       "    </tr>\n",
       "    <tr>\n",
       "      <th>1</th>\n",
       "      <td>1</td>\n",
       "      <td>2023-05-11T11:23:42.000+0000</td>\n",
       "      <td>NaN</td>\n",
       "      <td>Paraná</td>\n",
       "      <td>Aquela pizza perfeita! :-D</td>\n",
       "    </tr>\n",
       "    <tr>\n",
       "      <th>2</th>\n",
       "      <td>2</td>\n",
       "      <td>2023-05-11T11:24:29.000+0000</td>\n",
       "      <td>NaN</td>\n",
       "      <td>São Paulo</td>\n",
       "      <td>Muito obrigado!!</td>\n",
       "    </tr>\n",
       "    <tr>\n",
       "      <th>3</th>\n",
       "      <td>3</td>\n",
       "      <td>2023-05-11T11:29:39.000+0000</td>\n",
       "      <td>NaN</td>\n",
       "      <td>São Paulo</td>\n",
       "      <td>NaN</td>\n",
       "    </tr>\n",
       "    <tr>\n",
       "      <th>4</th>\n",
       "      <td>4</td>\n",
       "      <td>2023-05-11T11:31:30.000+0000</td>\n",
       "      <td>NaN</td>\n",
       "      <td>Rio Grande do Sul</td>\n",
       "      <td>Capricha no peperoni</td>\n",
       "    </tr>\n",
       "  </tbody>\n",
       "</table>\n",
       "</div>"
      ],
      "text/plain": [
       "   idPedido                      dtPedido flKetchup             descUF  \\\n",
       "0         0  2023-05-11T10:59:33.000+0000       NaN              Goiás   \n",
       "1         1  2023-05-11T11:23:42.000+0000       NaN             Paraná   \n",
       "2         2  2023-05-11T11:24:29.000+0000       NaN          São Paulo   \n",
       "3         3  2023-05-11T11:29:39.000+0000       NaN          São Paulo   \n",
       "4         4  2023-05-11T11:31:30.000+0000       NaN  Rio Grande do Sul   \n",
       "\n",
       "                    txtRecado  \n",
       "0                         NaN  \n",
       "1  Aquela pizza perfeita! :-D  \n",
       "2            Muito obrigado!!  \n",
       "3                         NaN  \n",
       "4        Capricha no peperoni  "
      ]
     },
     "execution_count": 4,
     "metadata": {},
     "output_type": "execute_result"
    }
   ],
   "source": [
    "df_pedido = pd.read_csv(r\"C:\\Users\\mathe\\Desktop\\Power BI\\Data Glow Up\\17\\pedido.csv\")\n",
    "df_pedido.head()"
   ]
  },
  {
   "cell_type": "code",
   "execution_count": 5,
   "id": "2772de43",
   "metadata": {},
   "outputs": [
    {
     "data": {
      "text/html": [
       "<div>\n",
       "<style scoped>\n",
       "    .dataframe tbody tr th:only-of-type {\n",
       "        vertical-align: middle;\n",
       "    }\n",
       "\n",
       "    .dataframe tbody tr th {\n",
       "        vertical-align: top;\n",
       "    }\n",
       "\n",
       "    .dataframe thead th {\n",
       "        text-align: right;\n",
       "    }\n",
       "</style>\n",
       "<table border=\"1\" class=\"dataframe\">\n",
       "  <thead>\n",
       "    <tr style=\"text-align: right;\">\n",
       "      <th></th>\n",
       "      <th>descItem</th>\n",
       "      <th>vlPreco</th>\n",
       "    </tr>\n",
       "  </thead>\n",
       "  <tbody>\n",
       "    <tr>\n",
       "      <th>0</th>\n",
       "      <td>abacate</td>\n",
       "      <td>5.25</td>\n",
       "    </tr>\n",
       "    <tr>\n",
       "      <th>1</th>\n",
       "      <td>abacaxi</td>\n",
       "      <td>2.50</td>\n",
       "    </tr>\n",
       "    <tr>\n",
       "      <th>2</th>\n",
       "      <td>abobrinha</td>\n",
       "      <td>2.00</td>\n",
       "    </tr>\n",
       "    <tr>\n",
       "      <th>3</th>\n",
       "      <td>alcaparra</td>\n",
       "      <td>3.00</td>\n",
       "    </tr>\n",
       "    <tr>\n",
       "      <th>4</th>\n",
       "      <td>alho</td>\n",
       "      <td>1.00</td>\n",
       "    </tr>\n",
       "  </tbody>\n",
       "</table>\n",
       "</div>"
      ],
      "text/plain": [
       "    descItem  vlPreco\n",
       "0    abacate     5.25\n",
       "1    abacaxi     2.50\n",
       "2  abobrinha     2.00\n",
       "3  alcaparra     3.00\n",
       "4       alho     1.00"
      ]
     },
     "execution_count": 5,
     "metadata": {},
     "output_type": "execute_result"
    }
   ],
   "source": [
    "df_produto = pd.read_csv(r\"C:\\Users\\mathe\\Desktop\\Power BI\\Data Glow Up\\17\\produto.csv\")\n",
    "df_produto.head()"
   ]
  },
  {
   "cell_type": "markdown",
   "id": "921b29f9",
   "metadata": {},
   "source": [
    "## Limpeza de Dados"
   ]
  },
  {
   "cell_type": "markdown",
   "id": "06f4c758",
   "metadata": {},
   "source": [
    "Hora de analisar as tabelas e verificar a necessidade de limpeza."
   ]
  },
  {
   "cell_type": "code",
   "execution_count": 6,
   "id": "82803f49",
   "metadata": {},
   "outputs": [
    {
     "name": "stdout",
     "output_type": "stream",
     "text": [
      "<class 'pandas.core.frame.DataFrame'>\n",
      "RangeIndex: 10484 entries, 0 to 10483\n",
      "Data columns (total 3 columns):\n",
      " #   Column        Non-Null Count  Dtype \n",
      "---  ------        --------------  ----- \n",
      " 0   idPedido      10484 non-null  int64 \n",
      " 1   descTipoItem  10484 non-null  object\n",
      " 2   descItem      10484 non-null  object\n",
      "dtypes: int64(1), object(2)\n",
      "memory usage: 245.8+ KB\n"
     ]
    }
   ],
   "source": [
    "# Iniciando a veriicação da tabela df_item_pedido\n",
    "\n",
    "df_item_pedido.info()"
   ]
  },
  {
   "cell_type": "code",
   "execution_count": 7,
   "id": "bd9085b7",
   "metadata": {
    "scrolled": true
   },
   "outputs": [
    {
     "data": {
      "text/plain": [
       "array(['bebida', 'borda', 'ingrediente 1', 'ingrediente 2',\n",
       "       'ingrediente 3', 'ingrediente 4', 'ingrediente 5', 'massa',\n",
       "       'queijo 1', 'queijo 2'], dtype=object)"
      ]
     },
     "execution_count": 7,
     "metadata": {},
     "output_type": "execute_result"
    }
   ],
   "source": [
    "df_item_pedido[\"descTipoItem\"].unique()"
   ]
  },
  {
   "cell_type": "code",
   "execution_count": 8,
   "id": "e5a578ea",
   "metadata": {},
   "outputs": [],
   "source": [
    "df_item_pedido[\"descTipoItem\"] = df_item_pedido[\"descTipoItem\"].astype(\"category\")"
   ]
  },
  {
   "cell_type": "code",
   "execution_count": 9,
   "id": "616f085c",
   "metadata": {},
   "outputs": [
    {
     "data": {
      "text/plain": [
       "array(['refrigerante', 'borda tradicional', 'pepperoni', 'orégano',\n",
       "       'frango', 'calabresa', 'bacon', 'massa final', 'mussarela',\n",
       "       'provolone', 'cheddar', 'tomate', 'presunto', 'palmito',\n",
       "       'massa tradicional', 'cerveja', 'sabor catupiry',\n",
       "       'pimenta biquinho', 'linguiça calabresa defumada', 'cogumelos',\n",
       "       'alho-poró', 'catupiry', 'cebola', 'pimenta calabresa',\n",
       "       'suco de laranja', 'cebola caramelizada', 'azeitona',\n",
       "       'massa grossa', 'gorgonzola', 'cream cheese', 'milho', 'rúcula',\n",
       "       'tomate seco', 'carne seca', 'queijo coalho', 'água com gás',\n",
       "       'camarão', 'parmesão', 'massa integral', 'queijo brie',\n",
       "       'vinho tinto', 'queijo roquefort', 'suco de uva', 'brócolis',\n",
       "       'azeite de oliva', 'abacaxi', 'ovo', 'ervilha', 'pimentão',\n",
       "       'suco de maracujá', 'alho', 'queijo cheddar', 'chá gelado', 'mel',\n",
       "       'berinjela', 'abobrinha', 'queijo coalho grelhado',\n",
       "       'suco de abacaxi', 'alcaparra', 'lentilha', 'ricota', 'cebolinha',\n",
       "       'nozes', 'amêndoas', 'queijo de cabra', 'atum', 'salsinha',\n",
       "       'grão de bico', 'limonada', 'linguiça', 'carne moída', 'espinafre',\n",
       "       'picles', 'pêssego', 'anchova em conserva', 'queijo gouda', 'tofu',\n",
       "       'anchova', 'pimentão assado', 'queijo feta', 'beterraba',\n",
       "       'castanhas', 'cereja', 'abacate', 'uva passa'], dtype=object)"
      ]
     },
     "execution_count": 9,
     "metadata": {},
     "output_type": "execute_result"
    }
   ],
   "source": [
    "df_item_pedido[\"descItem\"].unique()"
   ]
  },
  {
   "cell_type": "code",
   "execution_count": 10,
   "id": "2a3d873d",
   "metadata": {
    "scrolled": true
   },
   "outputs": [
    {
     "data": {
      "text/plain": [
       "['refrigerante', 'borda tradicional', 'pepperoni', 'orégano', 'frango', ..., 'beterraba', 'castanhas', 'cereja', 'abacate', 'uva passa']\n",
       "Length: 84\n",
       "Categories (84, object): ['abacate', 'abacaxi', 'abobrinha', 'alcaparra', ..., 'tomate seco', 'uva passa', 'vinho tinto', 'água com gás']"
      ]
     },
     "execution_count": 10,
     "metadata": {},
     "output_type": "execute_result"
    }
   ],
   "source": [
    "df_item_pedido[\"descItem\"] = df_item_pedido[\"descItem\"].replace(\"sabor catupiry\", \"catupiry\")\n",
    "df_item_pedido[\"descItem\"] = df_item_pedido[\"descItem\"].replace(\"massa final\", \"massa fina\")\n",
    "df_item_pedido[\"descItem\"] = df_item_pedido[\"descItem\"].astype(\"category\")\n",
    "df_item_pedido[\"descItem\"].unique()"
   ]
  },
  {
   "cell_type": "code",
   "execution_count": 11,
   "id": "c4f88b78",
   "metadata": {
    "scrolled": false
   },
   "outputs": [
    {
     "data": {
      "text/plain": [
       "1106"
      ]
     },
     "execution_count": 11,
     "metadata": {},
     "output_type": "execute_result"
    }
   ],
   "source": [
    "df_item_pedido[\"idPedido\"].nunique()"
   ]
  },
  {
   "cell_type": "code",
   "execution_count": 12,
   "id": "dfcc87d7",
   "metadata": {},
   "outputs": [
    {
     "name": "stdout",
     "output_type": "stream",
     "text": [
      "<class 'pandas.core.frame.DataFrame'>\n",
      "RangeIndex: 10484 entries, 0 to 10483\n",
      "Data columns (total 3 columns):\n",
      " #   Column        Non-Null Count  Dtype   \n",
      "---  ------        --------------  -----   \n",
      " 0   idPedido      10484 non-null  int64   \n",
      " 1   descTipoItem  10484 non-null  category\n",
      " 2   descItem      10484 non-null  category\n",
      "dtypes: category(2), int64(1)\n",
      "memory usage: 105.6 KB\n"
     ]
    }
   ],
   "source": [
    "df_item_pedido.info()\n",
    "\n",
    "# Finalizando verificação da tabela"
   ]
  },
  {
   "cell_type": "code",
   "execution_count": 13,
   "id": "96adc4ea",
   "metadata": {
    "scrolled": true
   },
   "outputs": [
    {
     "name": "stdout",
     "output_type": "stream",
     "text": [
      "<class 'pandas.core.frame.DataFrame'>\n",
      "RangeIndex: 85 entries, 0 to 84\n",
      "Data columns (total 2 columns):\n",
      " #   Column    Non-Null Count  Dtype  \n",
      "---  ------    --------------  -----  \n",
      " 0   descItem  85 non-null     object \n",
      " 1   vlPreco   85 non-null     float64\n",
      "dtypes: float64(1), object(1)\n",
      "memory usage: 1.5+ KB\n"
     ]
    }
   ],
   "source": [
    "# Iniciando a verificação da tabela df_produto\n",
    "\n",
    "df_produto.info()"
   ]
  },
  {
   "cell_type": "code",
   "execution_count": 14,
   "id": "713aed89",
   "metadata": {
    "scrolled": true
   },
   "outputs": [
    {
     "data": {
      "text/plain": [
       "array(['abacate', 'abacaxi', 'abobrinha', 'alcaparra', 'alho',\n",
       "       'alho-poró', 'amêndoas', 'anchova', 'anchova em conserva', 'atum',\n",
       "       'azeite de oliva', 'azeitona', 'bacon', 'berinjela', 'beterraba',\n",
       "       'borda tradicional', 'brócolis', 'calabresa', 'camarão',\n",
       "       'carne moída', 'carne seca', 'castanhas', 'catupiry', 'cebola',\n",
       "       'cebola caramelizada', 'cebolinha', 'cereja', 'cerveja', 'cheddar',\n",
       "       'chá gelado', 'cogumelos', 'cream cheese', 'ervilha', 'espinafre',\n",
       "       'frango', 'gorgonzola', 'grão de bico', 'lentilha', 'limonada',\n",
       "       'linguiça', 'linguiça calabresa defumada', 'massa final',\n",
       "       'massa grossa', 'massa integral', 'massa tradicional', 'mel',\n",
       "       'milho', 'mussarela', 'nozes', 'orégano', 'ovo', 'palmito',\n",
       "       'parmesão', 'pepperoni', 'picles', 'pimenta biquinho',\n",
       "       'pimenta calabresa', 'pimentão', 'pimentão assado', 'presunto',\n",
       "       'provolone', 'pêssego', 'queijo brie', 'queijo cheddar',\n",
       "       'queijo coalho', 'queijo coalho grelhado', 'queijo de cabra',\n",
       "       'queijo feta', 'queijo gouda', 'queijo roquefort', 'refrigerante',\n",
       "       'ricota', 'rúcula', 'sabor catupiry', 'salsinha',\n",
       "       'suco de abacaxi', 'suco de laranja', 'suco de maracujá',\n",
       "       'suco de uva', 'tofu', 'tomate', 'tomate seco', 'uva passa',\n",
       "       'vinho tinto', 'água com gás'], dtype=object)"
      ]
     },
     "execution_count": 14,
     "metadata": {},
     "output_type": "execute_result"
    }
   ],
   "source": [
    "df_produto[\"descItem\"].unique()"
   ]
  },
  {
   "cell_type": "code",
   "execution_count": 15,
   "id": "4595c4bf",
   "metadata": {
    "scrolled": true
   },
   "outputs": [
    {
     "data": {
      "text/plain": [
       "['abacate', 'abacaxi', 'abobrinha', 'alcaparra', 'alho', ..., 'tomate', 'tomate seco', 'uva passa', 'vinho tinto', 'água com gás']\n",
       "Length: 84\n",
       "Categories (84, object): ['abacate', 'abacaxi', 'abobrinha', 'alcaparra', ..., 'tomate seco', 'uva passa', 'vinho tinto', 'água com gás']"
      ]
     },
     "execution_count": 15,
     "metadata": {},
     "output_type": "execute_result"
    }
   ],
   "source": [
    "df_produto[\"descItem\"] = df_produto[\"descItem\"].replace(\"massa final\", \"massa fina\")\n",
    "df_produto[\"descItem\"] = df_produto[\"descItem\"].replace(\"sabor catupiry\", \"catupiry\")\n",
    "df_produto[\"descItem\"] = df_produto[\"descItem\"].astype(\"category\")\n",
    "df_produto[\"descItem\"].unique()"
   ]
  },
  {
   "cell_type": "code",
   "execution_count": 16,
   "id": "d66c1b65",
   "metadata": {
    "scrolled": true
   },
   "outputs": [
    {
     "data": {
      "text/plain": [
       "0.0"
      ]
     },
     "execution_count": 16,
     "metadata": {},
     "output_type": "execute_result"
    }
   ],
   "source": [
    "df_produto[\"vlPreco\"].min()"
   ]
  },
  {
   "cell_type": "code",
   "execution_count": 17,
   "id": "053a4d13",
   "metadata": {
    "scrolled": true
   },
   "outputs": [
    {
     "data": {
      "text/html": [
       "<div>\n",
       "<style scoped>\n",
       "    .dataframe tbody tr th:only-of-type {\n",
       "        vertical-align: middle;\n",
       "    }\n",
       "\n",
       "    .dataframe tbody tr th {\n",
       "        vertical-align: top;\n",
       "    }\n",
       "\n",
       "    .dataframe thead th {\n",
       "        text-align: right;\n",
       "    }\n",
       "</style>\n",
       "<table border=\"1\" class=\"dataframe\">\n",
       "  <thead>\n",
       "    <tr style=\"text-align: right;\">\n",
       "      <th></th>\n",
       "      <th>descItem</th>\n",
       "      <th>vlPreco</th>\n",
       "    </tr>\n",
       "  </thead>\n",
       "  <tbody>\n",
       "    <tr>\n",
       "      <th>15</th>\n",
       "      <td>borda tradicional</td>\n",
       "      <td>0.0</td>\n",
       "    </tr>\n",
       "  </tbody>\n",
       "</table>\n",
       "</div>"
      ],
      "text/plain": [
       "             descItem  vlPreco\n",
       "15  borda tradicional      0.0"
      ]
     },
     "execution_count": 17,
     "metadata": {},
     "output_type": "execute_result"
    }
   ],
   "source": [
    "df_produto[df_produto[\"vlPreco\"] <= 0.0]\n",
    "\n",
    "# Verificando qual produto não custa nada. \n",
    "# Minha suspeita (depois confirmada) é que esse produto se referia a borda ou massa tradicional,\n",
    "# caso o cliente não quisesse pagar nenhum valor adicional."
   ]
  },
  {
   "cell_type": "code",
   "execution_count": 18,
   "id": "ca66fe37",
   "metadata": {
    "scrolled": true
   },
   "outputs": [
    {
     "data": {
      "text/plain": [
       "13.75"
      ]
     },
     "execution_count": 18,
     "metadata": {},
     "output_type": "execute_result"
    }
   ],
   "source": [
    "df_produto[\"vlPreco\"].max()"
   ]
  },
  {
   "cell_type": "code",
   "execution_count": 19,
   "id": "2c9a682f",
   "metadata": {
    "scrolled": true
   },
   "outputs": [
    {
     "data": {
      "text/html": [
       "<div>\n",
       "<style scoped>\n",
       "    .dataframe tbody tr th:only-of-type {\n",
       "        vertical-align: middle;\n",
       "    }\n",
       "\n",
       "    .dataframe tbody tr th {\n",
       "        vertical-align: top;\n",
       "    }\n",
       "\n",
       "    .dataframe thead th {\n",
       "        text-align: right;\n",
       "    }\n",
       "</style>\n",
       "<table border=\"1\" class=\"dataframe\">\n",
       "  <thead>\n",
       "    <tr style=\"text-align: right;\">\n",
       "      <th></th>\n",
       "      <th>descItem</th>\n",
       "      <th>vlPreco</th>\n",
       "    </tr>\n",
       "  </thead>\n",
       "  <tbody>\n",
       "    <tr>\n",
       "      <th>43</th>\n",
       "      <td>massa integral</td>\n",
       "      <td>13.75</td>\n",
       "    </tr>\n",
       "  </tbody>\n",
       "</table>\n",
       "</div>"
      ],
      "text/plain": [
       "          descItem  vlPreco\n",
       "43  massa integral    13.75"
      ]
     },
     "execution_count": 19,
     "metadata": {},
     "output_type": "execute_result"
    }
   ],
   "source": [
    "df_produto[df_produto[\"vlPreco\"] >= 13.75]"
   ]
  },
  {
   "cell_type": "code",
   "execution_count": 20,
   "id": "8c66a87d",
   "metadata": {},
   "outputs": [],
   "source": [
    "# Finalizada a verificação da tabela df_produto\n",
    "\n",
    "# Iniciando a verificação da tabela df_pedido"
   ]
  },
  {
   "cell_type": "code",
   "execution_count": 21,
   "id": "e3c8cc09",
   "metadata": {
    "scrolled": true
   },
   "outputs": [
    {
     "name": "stdout",
     "output_type": "stream",
     "text": [
      "<class 'pandas.core.frame.DataFrame'>\n",
      "RangeIndex: 1106 entries, 0 to 1105\n",
      "Data columns (total 5 columns):\n",
      " #   Column     Non-Null Count  Dtype \n",
      "---  ------     --------------  ----- \n",
      " 0   idPedido   1106 non-null   int64 \n",
      " 1   dtPedido   1106 non-null   object\n",
      " 2   flKetchup  1097 non-null   object\n",
      " 3   descUF     1106 non-null   object\n",
      " 4   txtRecado  538 non-null    object\n",
      "dtypes: int64(1), object(4)\n",
      "memory usage: 43.3+ KB\n"
     ]
    }
   ],
   "source": [
    "df_pedido.info()"
   ]
  },
  {
   "cell_type": "code",
   "execution_count": 22,
   "id": "cd7844b7",
   "metadata": {
    "scrolled": true
   },
   "outputs": [
    {
     "data": {
      "text/plain": [
       "0      2023-05-11 05:59:33-05:00\n",
       "1      2023-05-11 06:23:42-05:00\n",
       "2      2023-05-11 06:24:29-05:00\n",
       "3      2023-05-11 06:29:39-05:00\n",
       "4      2023-05-11 06:31:30-05:00\n",
       "                  ...           \n",
       "1101   2023-05-25 11:47:40-05:00\n",
       "1102   2023-05-25 11:55:35-05:00\n",
       "1103   2023-05-25 12:07:05-05:00\n",
       "1104   2023-05-25 13:18:02-05:00\n",
       "1105   2023-05-25 13:27:12-05:00\n",
       "Name: dtPedido, Length: 1106, dtype: datetime64[ns, Brazil/Acre]"
      ]
     },
     "execution_count": 22,
     "metadata": {},
     "output_type": "execute_result"
    }
   ],
   "source": [
    "df_pedido[\"dtPedido\"] = pd.to_datetime(df_pedido[\"dtPedido\"], utc=True).dt.tz_convert(\"Brazil/Acre\")\n",
    "df_pedido[\"dtPedido\"]"
   ]
  },
  {
   "cell_type": "code",
   "execution_count": 23,
   "id": "5b6f99b1",
   "metadata": {},
   "outputs": [
    {
     "data": {
      "text/plain": [
       "array([nan, True, False], dtype=object)"
      ]
     },
     "execution_count": 23,
     "metadata": {},
     "output_type": "execute_result"
    }
   ],
   "source": [
    "df_pedido[\"flKetchup\"].unique()"
   ]
  },
  {
   "cell_type": "code",
   "execution_count": 24,
   "id": "166b4f2f",
   "metadata": {},
   "outputs": [
    {
     "data": {
      "text/plain": [
       "False    585\n",
       "True     521\n",
       "Name: flKetchup, dtype: int64"
      ]
     },
     "execution_count": 24,
     "metadata": {},
     "output_type": "execute_result"
    }
   ],
   "source": [
    "df_pedido[\"flKetchup\"] = df_pedido[\"flKetchup\"].fillna(False)\n",
    "df_pedido[\"flKetchup\"].value_counts()"
   ]
  },
  {
   "cell_type": "code",
   "execution_count": 26,
   "id": "810f17bf",
   "metadata": {},
   "outputs": [],
   "source": [
    "# Por ora, acredito que os dados estejam suficientemente limpos. \n",
    "# Quaisquer alterações posteriores podem ser feitas pelo Power BI e documentadas aqui. \n",
    "# Hora de salvar os arquivos. \n",
    "# E sim, irei salvá-lo separadamente.\n",
    "\n",
    "df_item_pedido.to_csv(\"item_pedido_limpo.csv\", sep=\";\")\n",
    "df_produto.to_csv(\"produto_limpo.csv\", sep=\";\")\n",
    "df_pedido.to_csv(\"pedido_limpo.csv\", sep=\";\")\n",
    "\n",
    "# Os separadores são importantes. Algumas mensagens tem vírgula, \n",
    "# então deixar o separador padrão vai confundir o Power BI."
   ]
  },
  {
   "cell_type": "markdown",
   "id": "e0f98565",
   "metadata": {},
   "source": [
    "### Enquanto isso, no Power BI..."
   ]
  },
  {
   "cell_type": "markdown",
   "id": "baa08238",
   "metadata": {},
   "source": [
    "Na verdade, não houveram grandes diferenças em termos de organização dos dados no Power BI.\n",
    "Separei a coluna dtPedido da tabela Pedido em três outras colunas: a coluna DataPedido, com o dia, mês e ano; a coluna HoraPedido, com o horário de cada pedido; e a coluna DiaPedido, com o dia da semana correspondente de cada pedido.\n",
    "\n",
    "Além disso, o Power BI não reconheceu os decimais dos valores, uma vez que Python faz uso de ponto e o programa faz uso de vírgula. Isso também foi solucionado por meio de Power Query."
   ]
  }
 ],
 "metadata": {
  "kernelspec": {
   "display_name": "Python 3 (ipykernel)",
   "language": "python",
   "name": "python3"
  },
  "language_info": {
   "codemirror_mode": {
    "name": "ipython",
    "version": 3
   },
   "file_extension": ".py",
   "mimetype": "text/x-python",
   "name": "python",
   "nbconvert_exporter": "python",
   "pygments_lexer": "ipython3",
   "version": "3.10.11"
  }
 },
 "nbformat": 4,
 "nbformat_minor": 5
}
